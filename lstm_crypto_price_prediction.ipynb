{
  "nbformat": 4,
  "nbformat_minor": 0,
  "metadata": {
    "colab": {
      "name": "lstm-crypto-price-prediction.ipynb",
      "version": "0.3.2",
      "views": {},
      "default_view": {},
      "provenance": [],
      "collapsed_sections": []
    },
    "kernelspec": {
      "name": "python3",
      "display_name": "Python 3"
    },
    "accelerator": "GPU"
  },
  "cells": [
    {
      "metadata": {
        "id": "vUxZ6yCDQVw7",
        "colab_type": "text"
      },
      "cell_type": "markdown",
      "source": [
        "## Bitcoin and Ethereum price prediction with RNN LSTM\n",
        "\n",
        "\n",
        "Importing needed libraries and installing Keras"
      ]
    },
    {
      "metadata": {
        "id": "R312y6JSrGR9",
        "colab_type": "code",
        "colab": {
          "autoexec": {
            "startup": false,
            "wait_interval": 0
          }
        }
      },
      "cell_type": "code",
      "source": [
        "import pandas as pd\n",
        "import time\n",
        "import matplotlib.pyplot as plt\n",
        "import datetime\n",
        "import numpy as np\n",
        "import gc\n",
        "\n",
        "# import the relevant Keras modules\n",
        "!pip install -q keras\n",
        "import keras\n",
        "from keras.models import Sequential\n",
        "from keras.layers import Activation, Dense\n",
        "from keras.layers import LSTM\n",
        "from keras.layers import Dropout\n",
        "\n",
        "%matplotlib inline"
      ],
      "execution_count": 0,
      "outputs": []
    },
    {
      "metadata": {
        "id": "yu13w2SuugZw",
        "colab_type": "code",
        "colab": {
          "autoexec": {
            "startup": false,
            "wait_interval": 0
          }
        }
      },
      "cell_type": "code",
      "source": [
        "neurons = 1024\n",
        "activation_function = 'tanh'\n",
        "loss = 'mse'\n",
        "optimizer=\"adam\"\n",
        "dropout = 2.5\n",
        "batch_size = 128\n",
        "epochs = 50\n",
        "window_len = 7\n",
        "training_size = 0.8\n",
        "merge_date = '2016-01-01'\n",
        "split_date = '2017-09-01'"
      ],
      "execution_count": 0,
      "outputs": []
    },
    {
      "metadata": {
        "id": "Qm_1vhACbDJe",
        "colab_type": "code",
        "colab": {
          "autoexec": {
            "startup": false,
            "wait_interval": 0
          }
        }
      },
      "cell_type": "code",
      "source": [
        "def get_market_data(market, tag='None'):\n",
        "  \"\"\"\n",
        "  market: the full name of the cryptocurrency as spelled on coinmarketcap.com. eg.: 'bitcoin'\n",
        "  tag: eg.: 'btc', if provided it will add a tag to the name of every column.\n",
        "  returns: panda DataFrame\n",
        "  This function will use the coinmarketcap.com url for provided coin/token page. \n",
        "  Reads the OHLCV and Market Cap.\n",
        "  Converts the date format to be readable. \n",
        "  Makes sure that the data is consistant by converting non_numeric values to a number very close to 0.\n",
        "  And finally tags each columns if provided.\n",
        "  \"\"\"\n",
        "  market_data = pd.read_html(\"https://coinmarketcap.com/currencies/\" + market + \n",
        "                             \"/historical-data/?start=20130428&end=\"+time.strftime(\"%Y%m%d\"), flavor='html5lib')[0]\n",
        "  market_data = market_data.assign(Date=pd.to_datetime(market_data['Date']))  \n",
        "  market_data['Volume'] = (pd.to_numeric(market_data['Volume'], errors='coerce').fillna(0))\n",
        "  if tag != 'None':\n",
        "    market_data.columns = [market_data.columns[0]] + [tag + '_' + i for i in market_data.columns[1:]]\n",
        "  return market_data\n",
        "\n",
        "\n",
        "def merge_data(a, b, from_date=merge_date):\n",
        "  \"\"\"\n",
        "  a: first DataFrame\n",
        "  b: second DataFrame\n",
        "  from_date: includes the data from the provided date and drops the any data before that date.\n",
        "  returns merged data as Pandas DataFrame\n",
        "  \"\"\"\n",
        "  merged_data = pd.merge(a, b, on=['Date'])\n",
        "  merged_data = merged_data[merged_data['Date'] >= from_date]\n",
        "  return merged_data\n",
        "\n",
        "\n",
        "def add_volatility(data, coins=['btc', 'eth']):\n",
        "  \"\"\"\n",
        "  data: input data, pandas DataFrame\n",
        "  coins: default is for 'btc and 'eth'. It could be changed as needed\n",
        "  This function calculates the volatility and close_off_high of each given coin in 24 hours, \n",
        "  and adds the result as new columns to the DataFrame.\n",
        "  Return: DataFrame with added columns\n",
        "  \"\"\"\n",
        "  for coin in coins:\n",
        "    # calculate the daily change\n",
        "    kwargs = {coin + '_change': lambda x: (x[coin + '_Close'] - x[coin + '_Open']) / x[coin + '_Open'],\n",
        "             coin + '_close_off_high': lambda x: 2*(x[coin + '_High'] - x[coin + '_Close']) / (x[coin + '_High'] - x[coin + '_Low']) - 1,\n",
        "             coin + '_volatility': lambda x: (x[coin + '_High'] - x[coin + '_Low']) / (x[coin + '_Open'])}\n",
        "    data = data.assign(**kwargs)\n",
        "  return data\n",
        "\n",
        "\n",
        "def create_model_data(data):\n",
        "  \"\"\"\n",
        "  data: pandas DataFrame\n",
        "  This function drops unnecessary columns and reverses the order of DataFrame based on decending dates.\n",
        "  Return: pandas DataFrame\n",
        "  \"\"\"\n",
        "  data = data[['Date']+[coin+metric for coin in ['btc_', 'eth_'] for metric in ['Close','Volume','close_off_high','volatility']]]\n",
        "  data = data.sort_values(by='Date')\n",
        "  return data\n",
        "\n",
        "\n",
        "def split_data(data, training_size=0.8):\n",
        "  \"\"\"\n",
        "  data: Pandas Dataframe\n",
        "  training_size: proportion of the data to be used for training\n",
        "  This function splits the data into training_set and test_set based on the given training_size\n",
        "  Return: train_set and test_set as pandas DataFrame\n",
        "  \"\"\"\n",
        "  return data[:int(training_size*len(data))], data[int(training_size*len(data)):]\n",
        "\n",
        "\n",
        "def create_inputs(data, coins=['btc', 'eth'], window_len=window_len):\n",
        "  \"\"\"\n",
        "  data: pandas DataFrame, this could be either training_set or test_set\n",
        "  target_coin: the coin which will be the target for the prediction.\n",
        "  coins: coin datas which will be used as the input. Default is 'btc', 'eth'\n",
        "  window_len: is an intiger to be used as the look back window for creating a single input sample.\n",
        "  This function will create input array X and it's label array Y from the given dataset and \n",
        "  will normalize 'Close' and 'Volume' between 0 and 1\n",
        "  Return: X list and Y as numpy array\n",
        "  \"\"\"\n",
        "  norm_cols = [coin + metric for coin in coins for metric in ['_Close', '_Volume']]\n",
        "  inputs = []\n",
        "  for i in range(len(data) - window_len):\n",
        "    temp_set = data[i:(i + window_len)].copy()\n",
        "    inputs.append(temp_set)\n",
        "    for col in norm_cols:\n",
        "      inputs[i].loc[:, col] = inputs[i].loc[:, col] / inputs[i].loc[:, col].iloc[0] - 1  \n",
        "  return inputs\n",
        "\n",
        "def create_outputs(data, coin, window_len=window_len):\n",
        "  return (data[coin + '_Close'][window_len:].values / data[coin + '_Close'][:-window_len].values) - 1\n",
        "\n",
        "def to_array(data):\n",
        "  \"\"\"\n",
        "  data: DataFrame\n",
        "  This function will convert list of inputs to a numpy array\n",
        "  Return: numpy array\n",
        "  \"\"\"\n",
        "  x = [np.array(data[i]) for i in range (len(data))]\n",
        "  return np.array(x)\n",
        "\n",
        "\n",
        "def build_model(inputs, output_size, neurons, activ_func=activation_function, dropout=dropout, loss=loss, optimizer=optimizer):\n",
        "  \"\"\"\n",
        "  inputs: input data as numpy array\n",
        "  output_size: number of predictions per input sample\n",
        "  neurons: number of neurons/ units in the LSTM layer\n",
        "  active_func: Activation function to be used in LSTM layers and Dense layer\n",
        "  dropout: dropout ration, default is 2.5\n",
        "  loss: loss function for calculating the gradient\n",
        "  optimizer: type of optimizer to backpropagate the gradient\n",
        "  This function will build 3 layered RNN model with LSTM cells with dripouts after each LSTM layer \n",
        "  and finally a dense layer to produce the output using keras' sequential model.\n",
        "  Return: Keras sequential model and model summary\n",
        "  \"\"\"\n",
        "  model = Sequential()\n",
        "  model.add(LSTM(neurons, return_sequences=True, input_shape=(inputs.shape[1], inputs.shape[2]), activation=activ_func))\n",
        "  model.add(Dropout(dropout))\n",
        "  model.add(LSTM(neurons, return_sequences=True, activation=activ_func))\n",
        "  model.add(Dropout(dropout))\n",
        "  model.add(LSTM(neurons, activation=activ_func))\n",
        "  model.add(Dropout(dropout))\n",
        "  model.add(Dense(units=output_size))\n",
        "  model.add(Activation(activ_func))\n",
        "  model.compile(loss=loss, optimizer=optimizer)\n",
        "  model.summary()\n",
        "  return model"
      ],
      "execution_count": 0,
      "outputs": []
    },
    {
      "metadata": {
        "id": "auwt63XLkuTD",
        "colab_type": "code",
        "colab": {
          "autoexec": {
            "startup": false,
            "wait_interval": 0
          }
        }
      },
      "cell_type": "code",
      "source": [
        "def show_plot(data, tag):\n",
        "  fig, (ax1, ax2) = plt.subplots(2,1, gridspec_kw = {'height_ratios':[3, 1]})\n",
        "  ax1.set_ylabel('Closing Price ($)',fontsize=12)\n",
        "  ax2.set_ylabel('Volume ($ bn)',fontsize=12)\n",
        "  ax2.set_yticks([int('%d000000000'%i) for i in range(10)])\n",
        "  ax2.set_yticklabels(range(10))\n",
        "  ax1.set_xticks([datetime.date(i,j,1) for i in range(2013,2019) for j in [1,7]])\n",
        "  ax1.set_xticklabels('')\n",
        "  ax2.set_xticks([datetime.date(i,j,1) for i in range(2013,2019) for j in [1,7]])\n",
        "  ax2.set_xticklabels([datetime.date(i,j,1).strftime('%b %Y')  for i in range(2013,2019) for j in [1,7]])\n",
        "  ax1.plot(data['Date'].astype(datetime.datetime),data[tag +'_Open'])\n",
        "  ax2.bar(data['Date'].astype(datetime.datetime).values, data[tag +'_Volume'].values)\n",
        "  fig.tight_layout()\n",
        "  plt.show()"
      ],
      "execution_count": 0,
      "outputs": []
    },
    {
      "metadata": {
        "id": "POobtVVWYigo",
        "colab_type": "code",
        "colab": {
          "autoexec": {
            "startup": false,
            "wait_interval": 0
          }
        }
      },
      "cell_type": "code",
      "source": [
        "btc_data = get_market_data(\"bitcoin\", tag='btc')\n",
        "eth_data = get_market_data(\"ethereum\", tag='eth')"
      ],
      "execution_count": 0,
      "outputs": []
    },
    {
      "metadata": {
        "id": "rO60a_-r6svn",
        "colab_type": "code",
        "colab": {
          "autoexec": {
            "startup": false,
            "wait_interval": 0
          },
          "output_extras": [
            {
              "item_id": 1
            },
            {
              "item_id": 2
            }
          ],
          "base_uri": "https://localhost:8080/",
          "height": 577
        },
        "outputId": "5e3995be-6f14-4b8a-b174-1fb7660b274d",
        "executionInfo": {
          "status": "ok",
          "timestamp": 1518322996948,
          "user_tz": 480,
          "elapsed": 5519,
          "user": {
            "displayName": "Siavash Fahimi",
            "photoUrl": "//lh6.googleusercontent.com/-up4qQrxDTS8/AAAAAAAAAAI/AAAAAAAAAA8/Ur690oI3y3o/s50-c-k-no/photo.jpg",
            "userId": "115818752764157619428"
          }
        }
      },
      "cell_type": "code",
      "source": [
        "show_plot(btc_data, tag='btc')\n",
        "show_plot(eth_data, tag='eth')"
      ],
      "execution_count": 21,
      "outputs": [
        {
          "output_type": "display_data",
          "data": {
            "image/png": "[encoded data removed]",
            "text/plain": [
              "<matplotlib.figure.Figure at 0x7fed22dc8fd0>"
            ]
          },
          "metadata": {
            "tags": []
          }
        },
        {
          "output_type": "display_data",
          "data": {
            "image/png": "[encoded data removed]",
            "text/plain": [
              "<matplotlib.figure.Figure at 0x7fed2e07fac8>"
            ]
          },
          "metadata": {
            "tags": []
          }
        }
      ]
    },
    {
      "metadata": {
        "id": "0xM2ct_ve1lH",
        "colab_type": "code",
        "colab": {
          "autoexec": {
            "startup": false,
            "wait_interval": 0
          }
        }
      },
      "cell_type": "code",
      "source": [
        "market_data = merge_data(btc_data, eth_data)\n",
        "market_data = add_volatility(market_data)\n",
        "model_data = create_model_data(market_data)\n",
        "train_set, test_set = split_data(model_data)"
      ],
      "execution_count": 0,
      "outputs": []
    },
    {
      "metadata": {
        "id": "Tw6dSTImMgyR",
        "colab_type": "code",
        "colab": {
          "autoexec": {
            "startup": false,
            "wait_interval": 0
          },
          "output_extras": [
            {
              "item_id": 1
            }
          ],
          "base_uri": "https://localhost:8080/",
          "height": 204
        },
        "outputId": "892860b5-cc16-49c6-afee-d3a0aa2c97f9",
        "executionInfo": {
          "status": "ok",
          "timestamp": 1518322997579,
          "user_tz": 480,
          "elapsed": 250,
          "user": {
            "displayName": "Siavash Fahimi",
            "photoUrl": "//lh6.googleusercontent.com/-up4qQrxDTS8/AAAAAAAAAAI/AAAAAAAAAA8/Ur690oI3y3o/s50-c-k-no/photo.jpg",
            "userId": "115818752764157619428"
          }
        }
      },
      "cell_type": "code",
      "source": [
        "train_set.tail()"
      ],
      "execution_count": 23,
      "outputs": [
        {
          "output_type": "execute_result",
          "data": {
            "text/html": [
              "<div>\n",
              "<style scoped>\n",
              "    .dataframe tbody tr th:only-of-type {\n",
              "        vertical-align: middle;\n",
              "    }\n",
              "\n",
              "    .dataframe tbody tr th {\n",
              "        vertical-align: top;\n",
              "    }\n",
              "\n",
              "    .dataframe thead th {\n",
              "        text-align: right;\n",
              "    }\n",
              "</style>\n",
              "<table border=\"1\" class=\"dataframe\">\n",
              "  <thead>\n",
              "    <tr style=\"text-align: right;\">\n",
              "      <th></th>\n",
              "      <th>Date</th>\n",
              "      <th>btc_Close</th>\n",
              "      <th>btc_Volume</th>\n",
              "      <th>btc_close_off_high</th>\n",
              "      <th>btc_volatility</th>\n",
              "      <th>eth_Close</th>\n",
              "      <th>eth_Volume</th>\n",
              "      <th>eth_close_off_high</th>\n",
              "      <th>eth_volatility</th>\n",
              "    </tr>\n",
              "  </thead>\n",
              "  <tbody>\n",
              "    <tr>\n",
              "      <th>159</th>\n",
              "      <td>2017-09-04</td>\n",
              "      <td>4236.31</td>\n",
              "      <td>2.987330e+09</td>\n",
              "      <td>0.470604</td>\n",
              "      <td>0.105241</td>\n",
              "      <td>295.17</td>\n",
              "      <td>1801690000</td>\n",
              "      <td>0.546659</td>\n",
              "      <td>0.193559</td>\n",
              "    </tr>\n",
              "    <tr>\n",
              "      <th>158</th>\n",
              "      <td>2017-09-05</td>\n",
              "      <td>4376.53</td>\n",
              "      <td>2.697970e+09</td>\n",
              "      <td>-0.761199</td>\n",
              "      <td>0.101632</td>\n",
              "      <td>312.99</td>\n",
              "      <td>1551050000</td>\n",
              "      <td>-0.778043</td>\n",
              "      <td>0.168969</td>\n",
              "    </tr>\n",
              "    <tr>\n",
              "      <th>157</th>\n",
              "      <td>2017-09-06</td>\n",
              "      <td>4597.12</td>\n",
              "      <td>2.172100e+09</td>\n",
              "      <td>-0.832710</td>\n",
              "      <td>0.054988</td>\n",
              "      <td>334.34</td>\n",
              "      <td>1058830000</td>\n",
              "      <td>-0.969769</td>\n",
              "      <td>0.067463</td>\n",
              "    </tr>\n",
              "    <tr>\n",
              "      <th>156</th>\n",
              "      <td>2017-09-07</td>\n",
              "      <td>4599.88</td>\n",
              "      <td>1.844620e+09</td>\n",
              "      <td>-0.326125</td>\n",
              "      <td>0.035673</td>\n",
              "      <td>329.43</td>\n",
              "      <td>718624000</td>\n",
              "      <td>-0.397644</td>\n",
              "      <td>0.040717</td>\n",
              "    </tr>\n",
              "    <tr>\n",
              "      <th>155</th>\n",
              "      <td>2017-09-08</td>\n",
              "      <td>4228.75</td>\n",
              "      <td>2.700890e+09</td>\n",
              "      <td>0.475709</td>\n",
              "      <td>0.127209</td>\n",
              "      <td>296.50</td>\n",
              "      <td>1098780000</td>\n",
              "      <td>0.490108</td>\n",
              "      <td>0.134935</td>\n",
              "    </tr>\n",
              "  </tbody>\n",
              "</table>\n",
              "</div>"
            ],
            "text/plain": [
              "          Date  btc_Close    btc_Volume  btc_close_off_high  btc_volatility  \\\n",
              "159 2017-09-04    4236.31  2.987330e+09            0.470604        0.105241   \n",
              "158 2017-09-05    4376.53  2.697970e+09           -0.761199        0.101632   \n",
              "157 2017-09-06    4597.12  2.172100e+09           -0.832710        0.054988   \n",
              "156 2017-09-07    4599.88  1.844620e+09           -0.326125        0.035673   \n",
              "155 2017-09-08    4228.75  2.700890e+09            0.475709        0.127209   \n",
              "\n",
              "     eth_Close  eth_Volume  eth_close_off_high  eth_volatility  \n",
              "159     295.17  1801690000            0.546659        0.193559  \n",
              "158     312.99  1551050000           -0.778043        0.168969  \n",
              "157     334.34  1058830000           -0.969769        0.067463  \n",
              "156     329.43   718624000           -0.397644        0.040717  \n",
              "155     296.50  1098780000            0.490108        0.134935  "
            ]
          },
          "metadata": {
            "tags": []
          },
          "execution_count": 23
        }
      ]
    },
    {
      "metadata": {
        "id": "tKnWAnttdNQP",
        "colab_type": "code",
        "colab": {
          "autoexec": {
            "startup": false,
            "wait_interval": 0
          },
          "output_extras": [
            {
              "item_id": 1
            }
          ],
          "base_uri": "https://localhost:8080/",
          "height": 51
        },
        "outputId": "f198fd3d-4f70-4c78-9964-5bf6688db743",
        "executionInfo": {
          "status": "ok",
          "timestamp": 1518323000928,
          "user_tz": 480,
          "elapsed": 3223,
          "user": {
            "displayName": "Siavash Fahimi",
            "photoUrl": "//lh6.googleusercontent.com/-up4qQrxDTS8/AAAAAAAAAAI/AAAAAAAAAA8/Ur690oI3y3o/s50-c-k-no/photo.jpg",
            "userId": "115818752764157619428"
          }
        }
      },
      "cell_type": "code",
      "source": [
        "train_set = train_set.drop('Date', 1)\n",
        "test_set = test_set.drop('Date', 1)\n",
        "\n",
        "X_train = create_inputs(train_set)\n",
        "Y_train_btc = create_outputs(train_set, coin='btc')\n",
        "X_test = create_inputs(test_set)\n",
        "Y_test_btc = create_outputs(test_set, coin='btc')\n",
        "\n",
        "Y_train_eth = create_outputs(train_set, coin='eth')\n",
        "Y_test_eth = create_outputs(test_set, coin='eth')\n",
        "\n",
        "X_train, X_test = to_array(X_train), to_array(X_test)\n",
        "\n",
        "print (np.shape(X_train), np.shape(X_test), np.shape(Y_train_btc), np.shape(Y_test_btc))\n",
        "print (np.shape(X_train), np.shape(X_test), np.shape(Y_train_eth), np.shape(Y_test_eth))"
      ],
      "execution_count": 24,
      "outputs": [
        {
          "output_type": "stream",
          "text": [
            "(610, 7, 8) (148, 7, 8) (610,) (148,)\n",
            "(610, 7, 8) (148, 7, 8) (610,) (148,)\n"
          ],
          "name": "stdout"
        }
      ]
    },
    {
      "metadata": {
        "id": "vtU0NZP-JQLq",
        "colab_type": "code",
        "colab": {
          "autoexec": {
            "startup": false,
            "wait_interval": 0
          },
          "output_extras": [
            {
              "item_id": 34
            },
            {
              "item_id": 96
            },
            {
              "item_id": 160
            },
            {
              "item_id": 168
            }
          ],
          "base_uri": "https://localhost:8080/",
          "height": 2125
        },
        "outputId": "8472dda7-a570-45c0-81d1-2e1c4edc381f",
        "executionInfo": {
          "status": "ok",
          "timestamp": 1518323057606,
          "user_tz": 480,
          "elapsed": 56657,
          "user": {
            "displayName": "Siavash Fahimi",
            "photoUrl": "//lh6.googleusercontent.com/-up4qQrxDTS8/AAAAAAAAAAI/AAAAAAAAAA8/Ur690oI3y3o/s50-c-k-no/photo.jpg",
            "userId": "115818752764157619428"
          }
        }
      },
      "cell_type": "code",
      "source": [
        "# clean up the memory\n",
        "gc.collect()\n",
        "\n",
        "# random seed for reproducibility\n",
        "np.random.seed(202)\n",
        "\n",
        "# initialise model architecture\n",
        "btc_model = build_model(X_train, output_size=1, neurons=neurons)\n",
        "\n",
        "# train model on data\n",
        "btc_history = btc_model.fit(X_train, Y_train_btc, epochs=epochs, batch_size=batch_size, verbose=1, validation_data=(X_test, Y_test_btc), shuffle=False)"
      ],
      "execution_count": 25,
      "outputs": [
        {
          "output_type": "stream",
          "text": [
            "_________________________________________________________________\n",
            "Layer (type)                 Output Shape              Param #   \n",
            "=================================================================\n",
            "lstm_7 (LSTM)                (None, 7, 1024)           4231168   \n",
            "_________________________________________________________________\n",
            "dropout_7 (Dropout)          (None, 7, 1024)           0         \n",
            "_________________________________________________________________\n",
            "lstm_8 (LSTM)                (None, 7, 1024)           8392704   \n",
            "_________________________________________________________________\n",
            "dropout_8 (Dropout)          (None, 7, 1024)           0         \n",
            "_________________________________________________________________\n",
            "lstm_9 (LSTM)                (None, 1024)              8392704   \n",
            "_________________________________________________________________\n",
            "dropout_9 (Dropout)          (None, 1024)              0         \n",
            "_________________________________________________________________\n",
            "dense_3 (Dense)              (None, 1)                 1025      \n",
            "_________________________________________________________________\n",
            "activation_3 (Activation)    (None, 1)                 0         \n",
            "=================================================================\n",
            "Total params: 21,017,601\n",
            "Trainable params: 21,017,601\n",
            "Non-trainable params: 0\n",
            "_________________________________________________________________\n",
            "Train on 610 samples, validate on 148 samples\n",
            "Epoch 1/50\n",
            "610/610 [==============================] - 2s 3ms/step - loss: 0.0111 - val_loss: 0.0275\n",
            "Epoch 2/50\n",
            "610/610 [==============================] - 1s 1ms/step - loss: 0.0063 - val_loss: 0.0204\n",
            "Epoch 3/50\n",
            "610/610 [==============================] - 1s 1ms/step - loss: 0.0049 - val_loss: 0.0134\n",
            "Epoch 4/50\n",
            "610/610 [==============================] - 1s 1ms/step - loss: 0.0053 - val_loss: 0.0140\n",
            "Epoch 5/50\n",
            "610/610 [==============================] - 1s 1ms/step - loss: 0.0048 - val_loss: 0.0108\n",
            "Epoch 6/50\n",
            "610/610 [==============================] - 1s 1ms/step - loss: 0.0044 - val_loss: 0.0155\n",
            "Epoch 7/50\n",
            "610/610 [==============================] - 1s 1ms/step - loss: 0.0038 - val_loss: 0.0097\n",
            "Epoch 8/50\n",
            "610/610 [==============================] - 1s 1ms/step - loss: 0.0038 - val_loss: 0.0125\n",
            "Epoch 9/50\n",
            "610/610 [==============================] - 1s 1ms/step - loss: 0.0038 - val_loss: 0.0100\n",
            "Epoch 10/50\n",
            "512/610 [========================>.....] - ETA: 0s - loss: 0.0022"
          ],
          "name": "stdout"
        },
        {
          "output_type": "stream",
          "text": [
            "610/610 [==============================] - 1s 1ms/step - loss: 0.0025 - val_loss: 0.0076\n",
            "Epoch 11/50\n",
            "610/610 [==============================] - 1s 1ms/step - loss: 0.0023 - val_loss: 0.0083\n",
            "Epoch 12/50\n",
            "610/610 [==============================] - 1s 1ms/step - loss: 0.0020 - val_loss: 0.0068\n",
            "Epoch 13/50\n",
            "610/610 [==============================] - 1s 1ms/step - loss: 0.0017 - val_loss: 0.0069\n",
            "Epoch 14/50\n",
            "610/610 [==============================] - 1s 1ms/step - loss: 0.0018 - val_loss: 0.0062\n",
            "Epoch 15/50\n",
            "610/610 [==============================] - 1s 1ms/step - loss: 0.0016 - val_loss: 0.0063\n",
            "Epoch 16/50\n",
            "610/610 [==============================] - 1s 1ms/step - loss: 0.0016 - val_loss: 0.0060\n",
            "Epoch 17/50\n",
            "610/610 [==============================] - 1s 1ms/step - loss: 0.0016 - val_loss: 0.0057\n",
            "Epoch 18/50\n",
            "610/610 [==============================] - 1s 1ms/step - loss: 0.0015 - val_loss: 0.0058\n",
            "Epoch 19/50\n",
            "610/610 [==============================] - 1s 1ms/step - loss: 0.0014 - val_loss: 0.0055\n",
            "Epoch 20/50\n",
            "610/610 [==============================] - 1s 1ms/step - loss: 0.0014 - val_loss: 0.0053\n",
            "Epoch 21/50\n",
            "610/610 [==============================] - 1s 1ms/step - loss: 0.0014 - val_loss: 0.0054\n",
            "Epoch 22/50\n",
            "610/610 [==============================] - 1s 1ms/step - loss: 0.0014 - val_loss: 0.0051\n",
            "Epoch 23/50\n",
            "610/610 [==============================] - 1s 1ms/step - loss: 0.0013 - val_loss: 0.0051\n",
            "Epoch 24/50\n",
            "610/610 [==============================] - 1s 1ms/step - loss: 0.0013 - val_loss: 0.0050\n",
            "Epoch 25/50\n",
            "610/610 [==============================] - 1s 1ms/step - loss: 0.0013 - val_loss: 0.0049\n",
            "Epoch 26/50\n",
            "610/610 [==============================] - 1s 1ms/step - loss: 0.0012 - val_loss: 0.0049\n",
            "Epoch 27/50\n",
            "610/610 [==============================] - 1s 1ms/step - loss: 0.0012 - val_loss: 0.0048\n",
            "Epoch 28/50\n",
            "610/610 [==============================] - 1s 1ms/step - loss: 0.0013 - val_loss: 0.0047\n",
            "Epoch 29/50\n",
            "384/610 [=================>............] - ETA: 0s - loss: 8.4667e-04"
          ],
          "name": "stdout"
        },
        {
          "output_type": "stream",
          "text": [
            "610/610 [==============================] - 1s 1ms/step - loss: 0.0012 - val_loss: 0.0048\n",
            "Epoch 30/50\n",
            "610/610 [==============================] - 1s 1ms/step - loss: 0.0012 - val_loss: 0.0046\n",
            "Epoch 31/50\n",
            "610/610 [==============================] - 1s 1ms/step - loss: 0.0012 - val_loss: 0.0046\n",
            "Epoch 32/50\n",
            "610/610 [==============================] - 1s 1ms/step - loss: 0.0012 - val_loss: 0.0046\n",
            "Epoch 33/50\n",
            "610/610 [==============================] - 1s 1ms/step - loss: 0.0012 - val_loss: 0.0045\n",
            "Epoch 34/50\n",
            "610/610 [==============================] - 1s 1ms/step - loss: 0.0012 - val_loss: 0.0045\n",
            "Epoch 35/50\n",
            "610/610 [==============================] - 1s 1ms/step - loss: 0.0012 - val_loss: 0.0045\n",
            "Epoch 36/50\n",
            "610/610 [==============================] - 1s 1ms/step - loss: 0.0012 - val_loss: 0.0044\n",
            "Epoch 37/50\n",
            "610/610 [==============================] - 1s 1ms/step - loss: 0.0012 - val_loss: 0.0045\n",
            "Epoch 38/50\n",
            "610/610 [==============================] - 1s 1ms/step - loss: 0.0012 - val_loss: 0.0044\n",
            "Epoch 39/50\n",
            "610/610 [==============================] - 1s 1ms/step - loss: 0.0012 - val_loss: 0.0045\n",
            "Epoch 40/50\n",
            "610/610 [==============================] - 1s 1ms/step - loss: 0.0013 - val_loss: 0.0044\n",
            "Epoch 41/50\n",
            "610/610 [==============================] - 1s 1ms/step - loss: 0.0014 - val_loss: 0.0048\n",
            "Epoch 42/50\n",
            "610/610 [==============================] - 1s 1ms/step - loss: 0.0015 - val_loss: 0.0044\n",
            "Epoch 43/50\n",
            "610/610 [==============================] - 1s 1ms/step - loss: 0.0015 - val_loss: 0.0054\n",
            "Epoch 44/50\n",
            "610/610 [==============================] - 1s 1ms/step - loss: 0.0014 - val_loss: 0.0045\n",
            "Epoch 45/50\n",
            "610/610 [==============================] - 1s 1ms/step - loss: 0.0014 - val_loss: 0.0052\n",
            "Epoch 46/50\n",
            "610/610 [==============================] - 1s 1ms/step - loss: 0.0014 - val_loss: 0.0045\n",
            "Epoch 47/50\n",
            "610/610 [==============================] - 1s 1ms/step - loss: 0.0013 - val_loss: 0.0047\n",
            "Epoch 48/50\n",
            "384/610 [=================>............] - ETA: 0s - loss: 9.9078e-04"
          ],
          "name": "stdout"
        },
        {
          "output_type": "stream",
          "text": [
            "610/610 [==============================] - 1s 1ms/step - loss: 0.0014 - val_loss: 0.0046\n",
            "Epoch 49/50\n",
            "610/610 [==============================] - 1s 1ms/step - loss: 0.0015 - val_loss: 0.0044\n",
            "Epoch 50/50\n",
            "610/610 [==============================] - 1s 1ms/step - loss: 0.0016 - val_loss: 0.0053\n"
          ],
          "name": "stdout"
        }
      ]
    },
    {
      "metadata": {
        "id": "2DJ7tz97AAIC",
        "colab_type": "code",
        "colab": {
          "autoexec": {
            "startup": false,
            "wait_interval": 0
          },
          "output_extras": [
            {
              "item_id": 1
            }
          ],
          "base_uri": "https://localhost:8080/",
          "height": 265
        },
        "outputId": "1a22d450-121c-4ffc-eaaf-1632928f5df2",
        "executionInfo": {
          "status": "ok",
          "timestamp": 1518323058113,
          "user_tz": 480,
          "elapsed": 492,
          "user": {
            "displayName": "Siavash Fahimi",
            "photoUrl": "//lh6.googleusercontent.com/-up4qQrxDTS8/AAAAAAAAAAI/AAAAAAAAAA8/Ur690oI3y3o/s50-c-k-no/photo.jpg",
            "userId": "115818752764157619428"
          }
        }
      },
      "cell_type": "code",
      "source": [
        "plt.plot(btc_history.epoch, btc_history.history['loss'])\n",
        "plt.plot(btc_history.epoch, btc_history.history['val_loss'])\n",
        "plt.show()"
      ],
      "execution_count": 26,
      "outputs": [
        {
          "output_type": "display_data",
          "data": {
            "image/png": "[encoded data removed]",
            "text/plain": [
              "<matplotlib.figure.Figure at 0x7fed20d42048>"
            ]
          },
          "metadata": {
            "tags": []
          }
        }
      ]
    },
    {
      "metadata": {
        "id": "BL0L111lCDwp",
        "colab_type": "code",
        "colab": {
          "autoexec": {
            "startup": false,
            "wait_interval": 0
          },
          "output_extras": [
            {
              "item_id": 1
            }
          ],
          "base_uri": "https://localhost:8080/",
          "height": 268
        },
        "outputId": "615d5458-ea73-467c-87ce-7ee0862b9763",
        "executionInfo": {
          "status": "ok",
          "timestamp": 1518323059108,
          "user_tz": 480,
          "elapsed": 796,
          "user": {
            "displayName": "Siavash Fahimi",
            "photoUrl": "//lh6.googleusercontent.com/-up4qQrxDTS8/AAAAAAAAAAI/AAAAAAAAAA8/Ur690oI3y3o/s50-c-k-no/photo.jpg",
            "userId": "115818752764157619428"
          }
        }
      },
      "cell_type": "code",
      "source": [
        "plt.plot(btc_model.predict(X_test))\n",
        "plt.plot(Y_test_btc)\n",
        "plt.show()"
      ],
      "execution_count": 27,
      "outputs": [
        {
          "output_type": "display_data",
          "data": {
            "image/png": "[encoded data removed]",
            "text/plain": [
              "<matplotlib.figure.Figure at 0x7fed67325f60>"
            ]
          },
          "metadata": {
            "tags": []
          }
        }
      ]
    },
    {
      "metadata": {
        "id": "2_f1N-xn0jOh",
        "colab_type": "code",
        "colab": {
          "autoexec": {
            "startup": false,
            "wait_interval": 0
          },
          "output_extras": [
            {
              "item_id": 36
            },
            {
              "item_id": 98
            },
            {
              "item_id": 159
            },
            {
              "item_id": 167
            }
          ],
          "base_uri": "https://localhost:8080/",
          "height": 2125
        },
        "outputId": "0d5d133f-c286-4852-b840-a492e20d89e1",
        "executionInfo": {
          "status": "ok",
          "timestamp": 1518323115725,
          "user_tz": 480,
          "elapsed": 56555,
          "user": {
            "displayName": "Siavash Fahimi",
            "photoUrl": "//lh6.googleusercontent.com/-up4qQrxDTS8/AAAAAAAAAAI/AAAAAAAAAA8/Ur690oI3y3o/s50-c-k-no/photo.jpg",
            "userId": "115818752764157619428"
          }
        }
      },
      "cell_type": "code",
      "source": [
        "# clean up the memory\n",
        "gc.collect()\n",
        "\n",
        "# random seed for reproducibility\n",
        "np.random.seed(202)\n",
        "\n",
        "# initialise model architecture\n",
        "eth_model = build_model(X_train, output_size=1, neurons=neurons)\n",
        "\n",
        "# train model on data\n",
        "eth_history = eth_model.fit(X_train, Y_train_eth, epochs=epochs, batch_size=batch_size, verbose=1, validation_data=(X_test, Y_test_eth), shuffle=False)"
      ],
      "execution_count": 28,
      "outputs": [
        {
          "output_type": "stream",
          "text": [
            "_________________________________________________________________\n",
            "Layer (type)                 Output Shape              Param #   \n",
            "=================================================================\n",
            "lstm_10 (LSTM)               (None, 7, 1024)           4231168   \n",
            "_________________________________________________________________\n",
            "dropout_10 (Dropout)         (None, 7, 1024)           0         \n",
            "_________________________________________________________________\n",
            "lstm_11 (LSTM)               (None, 7, 1024)           8392704   \n",
            "_________________________________________________________________\n",
            "dropout_11 (Dropout)         (None, 7, 1024)           0         \n",
            "_________________________________________________________________\n",
            "lstm_12 (LSTM)               (None, 1024)              8392704   \n",
            "_________________________________________________________________\n",
            "dropout_12 (Dropout)         (None, 1024)              0         \n",
            "_________________________________________________________________\n",
            "dense_4 (Dense)              (None, 1)                 1025      \n",
            "_________________________________________________________________\n",
            "activation_4 (Activation)    (None, 1)                 0         \n",
            "=================================================================\n",
            "Total params: 21,017,601\n",
            "Trainable params: 21,017,601\n",
            "Non-trainable params: 0\n",
            "_________________________________________________________________\n",
            "Train on 610 samples, validate on 148 samples\n",
            "Epoch 1/50\n",
            "610/610 [==============================] - 2s 4ms/step - loss: 0.0886 - val_loss: 0.0218\n",
            "Epoch 2/50\n",
            "610/610 [==============================] - 1s 1ms/step - loss: 0.0401 - val_loss: 0.0185\n",
            "Epoch 3/50\n",
            "610/610 [==============================] - 1s 1ms/step - loss: 0.0282 - val_loss: 0.0131\n",
            "Epoch 4/50\n",
            "610/610 [==============================] - 1s 1ms/step - loss: 0.0239 - val_loss: 0.0104\n",
            "Epoch 5/50\n",
            "610/610 [==============================] - 1s 1ms/step - loss: 0.0190 - val_loss: 0.0091\n",
            "Epoch 6/50\n",
            "610/610 [==============================] - 1s 1ms/step - loss: 0.0170 - val_loss: 0.0076\n",
            "Epoch 7/50\n",
            "610/610 [==============================] - 1s 1ms/step - loss: 0.0157 - val_loss: 0.0070\n",
            "Epoch 8/50\n",
            "610/610 [==============================] - 1s 1ms/step - loss: 0.0140 - val_loss: 0.0064\n",
            "Epoch 9/50\n",
            "610/610 [==============================] - 1s 1ms/step - loss: 0.0131 - val_loss: 0.0065\n",
            "Epoch 10/50\n",
            "512/610 [========================>.....] - ETA: 0s - loss: 0.0129"
          ],
          "name": "stdout"
        },
        {
          "output_type": "stream",
          "text": [
            "610/610 [==============================] - 1s 1ms/step - loss: 0.0120 - val_loss: 0.0061\n",
            "Epoch 11/50\n",
            "610/610 [==============================] - 1s 1ms/step - loss: 0.0114 - val_loss: 0.0061\n",
            "Epoch 12/50\n",
            "610/610 [==============================] - 1s 1ms/step - loss: 0.0105 - val_loss: 0.0057\n",
            "Epoch 13/50\n",
            "610/610 [==============================] - 1s 1ms/step - loss: 0.0100 - val_loss: 0.0059\n",
            "Epoch 14/50\n",
            "610/610 [==============================] - 1s 1ms/step - loss: 0.0094 - val_loss: 0.0055\n",
            "Epoch 15/50\n",
            "610/610 [==============================] - 1s 1ms/step - loss: 0.0090 - val_loss: 0.0057\n",
            "Epoch 16/50\n",
            "610/610 [==============================] - 1s 1ms/step - loss: 0.0088 - val_loss: 0.0054\n",
            "Epoch 17/50\n",
            "610/610 [==============================] - 1s 1ms/step - loss: 0.0085 - val_loss: 0.0056\n",
            "Epoch 18/50\n",
            "610/610 [==============================] - 1s 1ms/step - loss: 0.0082 - val_loss: 0.0053\n",
            "Epoch 19/50\n",
            "610/610 [==============================] - 1s 1ms/step - loss: 0.0081 - val_loss: 0.0054\n",
            "Epoch 20/50\n",
            "610/610 [==============================] - 1s 1ms/step - loss: 0.0080 - val_loss: 0.0052\n",
            "Epoch 21/50\n",
            "610/610 [==============================] - 1s 1ms/step - loss: 0.0079 - val_loss: 0.0054\n",
            "Epoch 22/50\n",
            "610/610 [==============================] - 1s 1ms/step - loss: 0.0078 - val_loss: 0.0052\n",
            "Epoch 23/50\n",
            "610/610 [==============================] - 1s 1ms/step - loss: 0.0077 - val_loss: 0.0053\n",
            "Epoch 24/50\n",
            "610/610 [==============================] - 1s 1ms/step - loss: 0.0076 - val_loss: 0.0052\n",
            "Epoch 25/50\n",
            "610/610 [==============================] - 1s 1ms/step - loss: 0.0076 - val_loss: 0.0052\n",
            "Epoch 26/50\n",
            "610/610 [==============================] - 1s 1ms/step - loss: 0.0075 - val_loss: 0.0051\n",
            "Epoch 27/50\n",
            "610/610 [==============================] - 1s 1ms/step - loss: 0.0075 - val_loss: 0.0052\n",
            "Epoch 28/50\n",
            "610/610 [==============================] - 1s 1ms/step - loss: 0.0075 - val_loss: 0.0051\n",
            "Epoch 29/50\n",
            "384/610 [=================>............] - ETA: 0s - loss: 0.0058"
          ],
          "name": "stdout"
        },
        {
          "output_type": "stream",
          "text": [
            "610/610 [==============================] - 1s 1ms/step - loss: 0.0074 - val_loss: 0.0051\n",
            "Epoch 30/50\n",
            "610/610 [==============================] - 1s 1ms/step - loss: 0.0074 - val_loss: 0.0051\n",
            "Epoch 31/50\n",
            "610/610 [==============================] - 1s 1ms/step - loss: 0.0073 - val_loss: 0.0051\n",
            "Epoch 32/50\n",
            "610/610 [==============================] - 1s 1ms/step - loss: 0.0073 - val_loss: 0.0051\n",
            "Epoch 33/50\n",
            "610/610 [==============================] - 1s 1ms/step - loss: 0.0073 - val_loss: 0.0051\n",
            "Epoch 34/50\n",
            "610/610 [==============================] - 1s 1ms/step - loss: 0.0073 - val_loss: 0.0051\n",
            "Epoch 35/50\n",
            "610/610 [==============================] - 1s 1ms/step - loss: 0.0072 - val_loss: 0.0051\n",
            "Epoch 36/50\n",
            "610/610 [==============================] - 1s 1ms/step - loss: 0.0072 - val_loss: 0.0051\n",
            "Epoch 37/50\n",
            "610/610 [==============================] - 1s 1ms/step - loss: 0.0071 - val_loss: 0.0051\n",
            "Epoch 38/50\n",
            "610/610 [==============================] - 1s 1ms/step - loss: 0.0071 - val_loss: 0.0052\n",
            "Epoch 39/50\n",
            "610/610 [==============================] - 1s 1ms/step - loss: 0.0071 - val_loss: 0.0052\n",
            "Epoch 40/50\n",
            "610/610 [==============================] - 1s 1ms/step - loss: 0.0071 - val_loss: 0.0052\n",
            "Epoch 41/50\n",
            "610/610 [==============================] - 1s 1ms/step - loss: 0.0070 - val_loss: 0.0052\n",
            "Epoch 42/50\n",
            "610/610 [==============================] - 1s 1ms/step - loss: 0.0070 - val_loss: 0.0052\n",
            "Epoch 43/50\n",
            "610/610 [==============================] - 1s 1ms/step - loss: 0.0069 - val_loss: 0.0051\n",
            "Epoch 44/50\n",
            "610/610 [==============================] - 1s 1ms/step - loss: 0.0070 - val_loss: 0.0052\n",
            "Epoch 45/50\n",
            "610/610 [==============================] - 1s 1ms/step - loss: 0.0070 - val_loss: 0.0051\n",
            "Epoch 46/50\n",
            "610/610 [==============================] - 1s 1ms/step - loss: 0.0070 - val_loss: 0.0051\n",
            "Epoch 47/50\n",
            "610/610 [==============================] - 1s 1ms/step - loss: 0.0076 - val_loss: 0.0064\n",
            "Epoch 48/50\n",
            "384/610 [=================>............] - ETA: 0s - loss: 0.0067"
          ],
          "name": "stdout"
        },
        {
          "output_type": "stream",
          "text": [
            "610/610 [==============================] - 1s 1ms/step - loss: 0.0095 - val_loss: 0.0076\n",
            "Epoch 49/50\n",
            "610/610 [==============================] - 1s 1ms/step - loss: 0.0085 - val_loss: 0.0051\n",
            "Epoch 50/50\n",
            "610/610 [==============================] - 1s 1ms/step - loss: 0.0079 - val_loss: 0.0053\n"
          ],
          "name": "stdout"
        }
      ]
    },
    {
      "metadata": {
        "id": "BgBbhBec1pMf",
        "colab_type": "code",
        "colab": {
          "autoexec": {
            "startup": false,
            "wait_interval": 0
          },
          "output_extras": [
            {
              "item_id": 1
            }
          ],
          "base_uri": "https://localhost:8080/",
          "height": 265
        },
        "outputId": "5ed7a961-170f-4bd1-b3da-303980226c1c",
        "executionInfo": {
          "status": "ok",
          "timestamp": 1518323116196,
          "user_tz": 480,
          "elapsed": 457,
          "user": {
            "displayName": "Siavash Fahimi",
            "photoUrl": "//lh6.googleusercontent.com/-up4qQrxDTS8/AAAAAAAAAAI/AAAAAAAAAA8/Ur690oI3y3o/s50-c-k-no/photo.jpg",
            "userId": "115818752764157619428"
          }
        }
      },
      "cell_type": "code",
      "source": [
        "plt.plot(eth_history.epoch, eth_history.history['loss'])\n",
        "plt.plot(eth_history.epoch, eth_history.history['val_loss'])\n",
        "plt.show()"
      ],
      "execution_count": 29,
      "outputs": [
        {
          "output_type": "display_data",
          "data": {
            "image/png": "[encoded data removed]",
            "text/plain": [
              "<matplotlib.figure.Figure at 0x7fed20ca7c88>"
            ]
          },
          "metadata": {
            "tags": []
          }
        }
      ]
    },
    {
      "metadata": {
        "id": "7ztF5AFn15pK",
        "colab_type": "code",
        "colab": {
          "autoexec": {
            "startup": false,
            "wait_interval": 0
          },
          "output_extras": [
            {
              "item_id": 1
            }
          ],
          "base_uri": "https://localhost:8080/",
          "height": 265
        },
        "outputId": "cd878e1b-4f70-4595-b207-b7f31f162520",
        "executionInfo": {
          "status": "ok",
          "timestamp": 1518323117158,
          "user_tz": 480,
          "elapsed": 898,
          "user": {
            "displayName": "Siavash Fahimi",
            "photoUrl": "//lh6.googleusercontent.com/-up4qQrxDTS8/AAAAAAAAAAI/AAAAAAAAAA8/Ur690oI3y3o/s50-c-k-no/photo.jpg",
            "userId": "115818752764157619428"
          }
        }
      },
      "cell_type": "code",
      "source": [
        "plt.plot(eth_model.predict(X_test))\n",
        "plt.plot(Y_test_eth)\n",
        "plt.show()"
      ],
      "execution_count": 30,
      "outputs": [
        {
          "output_type": "display_data",
          "data": {
            "image/png": "[encoded data removed]",
            "text/plain": [
              "<matplotlib.figure.Figure at 0x7fed2275dba8>"
            ]
          },
          "metadata": {
            "tags": []
          }
        }
      ]
    }
  ]
}
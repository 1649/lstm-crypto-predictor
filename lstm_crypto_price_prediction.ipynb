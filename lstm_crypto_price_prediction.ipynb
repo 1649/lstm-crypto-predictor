{
  "nbformat": 4,
  "nbformat_minor": 0,
  "metadata": {
    "colab": {
      "name": "lstm-crypto-price-prediction.ipynb",
      "version": "0.3.2",
      "views": {},
      "default_view": {},
      "provenance": [],
      "collapsed_sections": []
    },
    "kernelspec": {
      "name": "python3",
      "display_name": "Python 3"
    },
    "accelerator": "GPU"
  },
  "cells": [
    {
      "metadata": {
        "id": "vUxZ6yCDQVw7",
        "colab_type": "text"
      },
      "cell_type": "markdown",
      "source": [
        "## Bitcoin and Ethereum price prediction with RNN LSTM\n",
        "\n",
        "\n",
        "Importing needed libraries and installing Keras"
      ]
    },
    {
      "metadata": {
        "id": "R312y6JSrGR9",
        "colab_type": "code",
        "colab": {
          "autoexec": {
            "startup": false,
            "wait_interval": 0
          },
          "output_extras": [
            {
              "item_id": 1
            }
          ],
          "base_uri": "https://localhost:8080/",
          "height": 34
        },
        "outputId": "620a305e-62a8-4c4e-94af-54125c6f751a",
        "executionInfo": {
          "status": "ok",
          "timestamp": 1518222303000,
          "user_tz": 480,
          "elapsed": 2450,
          "user": {
            "displayName": "Siavash Fahimi",
            "photoUrl": "//lh6.googleusercontent.com/-up4qQrxDTS8/AAAAAAAAAAI/AAAAAAAAAA8/Ur690oI3y3o/s50-c-k-no/photo.jpg",
            "userId": "115818752764157619428"
          }
        }
      },
      "cell_type": "code",
      "source": [
        "import pandas as pd\n",
        "import time\n",
        "import matplotlib.pyplot as plt\n",
        "import datetime\n",
        "import numpy as np\n",
        "import gc\n",
        "\n",
        "# import the relevant Keras modules\n",
        "!pip install -q keras\n",
        "import keras\n",
        "from keras.models import Sequential\n",
        "from keras.layers import Activation, Dense\n",
        "from keras.layers import LSTM\n",
        "from keras.layers import Dropout\n",
        "\n",
        "%matplotlib inline"
      ],
      "execution_count": 1,
      "outputs": [
        {
          "output_type": "stream",
          "text": [
            "Using TensorFlow backend.\n"
          ],
          "name": "stderr"
        }
      ]
    },
    {
      "metadata": {
        "id": "yu13w2SuugZw",
        "colab_type": "code",
        "colab": {
          "autoexec": {
            "startup": false,
            "wait_interval": 0
          }
        }
      },
      "cell_type": "code",
      "source": [
        "activation_function = 'tanh'\n",
        "loss = 'mse'\n",
        "optimizer=\"adam\"\n",
        "window_len = 7\n",
        "training_size = 0.8\n",
        "dropout = 2.5\n",
        "merge_date = '2016-01-01'\n",
        "split_date = '2017-09-01'"
      ],
      "execution_count": 0,
      "outputs": []
    },
    {
      "metadata": {
        "id": "Qm_1vhACbDJe",
        "colab_type": "code",
        "colab": {
          "autoexec": {
            "startup": false,
            "wait_interval": 0
          }
        }
      },
      "cell_type": "code",
      "source": [
        "def get_market_data(market, tag='None'):\n",
        "  \"\"\"\n",
        "  market: the full name of the cryptocurrency as spelled on coinmarketcap.com. eg.: 'bitcoin'\n",
        "  tag: eg.: 'btc', if provided it will add a tag to the name of every column.\n",
        "  returns: panda DataFrame\n",
        "  This function will use the coinmarketcap.com url for provided coin/token page. \n",
        "  Reads the OHLCV and Market Cap.\n",
        "  Converts the date format to be readable. \n",
        "  Makes sure that the data is consistant by converting non_numeric values to a number very close to 0.\n",
        "  And finally tags each columns if provided.\n",
        "  \"\"\"\n",
        "  market_data = pd.read_html(\"https://coinmarketcap.com/currencies/\" + market + \n",
        "                             \"/historical-data/?start=20130428&end=\"+time.strftime(\"%Y%m%d\"), flavor='html5lib')[0]\n",
        "  market_data = market_data.assign(Date=pd.to_datetime(market_data['Date']))  \n",
        "  market_data['Volume'] = (pd.to_numeric(market_data['Volume'], errors='coerce').fillna(0))\n",
        "  if tag != 'None':\n",
        "    market_data.columns = [market_data.columns[0]] + [tag + '_' + i for i in market_data.columns[1:]]\n",
        "  return market_data\n",
        "\n",
        "\n",
        "def merge_data(a, b, from_date=merge_date):\n",
        "  \"\"\"\n",
        "  a: first DataFrame\n",
        "  b: second DataFrame\n",
        "  from_date: includes the data from the provided date and drops the any data before that date.\n",
        "  returns merged data as Pandas DataFrame\n",
        "  \"\"\"\n",
        "  merged_data = pd.merge(a, b, on=['Date'])\n",
        "  merged_data = merged_data[merged_data['Date'] >= from_date]\n",
        "  return merged_data\n",
        "\n",
        "\n",
        "def add_volatility(data, coins=['btc', 'eth']):\n",
        "  \"\"\"\n",
        "  data: input data, pandas DataFrame\n",
        "  coins: default is for 'btc and 'eth'. It could be changed as needed\n",
        "  This function calculates the volatility and close_off_high of each given coin in 24 hours, \n",
        "  and adds the result as new columns to the DataFrame.\n",
        "  Return: DataFrame with added columns\n",
        "  \"\"\"\n",
        "  for coin in coins:\n",
        "    # calculate the daily change\n",
        "    kwargs = {coin + '_change': lambda x: (x[coin + '_Close'] - x[coin + '_Open']) / x[coin + '_Open'],\n",
        "             coin + '_close_off_high': lambda x: 2*(x[coin + '_High'] - x[coin + '_Close']) / (x[coin + '_High'] - x[coin + '_Low']) - 1,\n",
        "             coin + '_volatility': lambda x: (x[coin + '_High'] - x[coin + '_Low']) / (x[coin + '_Open'])}\n",
        "    data = data.assign(**kwargs)\n",
        "  return data\n",
        "\n",
        "\n",
        "def create_model_data(data):\n",
        "  \"\"\"\n",
        "  data: pandas DataFrame\n",
        "  This function drops unnecessary columns and reverses the order of DataFrame based on decending dates.\n",
        "  Return: pandas DataFrame\n",
        "  \"\"\"\n",
        "  data = data[['Date']+[coin+metric for coin in ['btc_', 'eth_'] for metric in ['Close','Volume','close_off_high','volatility']]]\n",
        "  data = data.sort_values(by='Date')\n",
        "  return data\n",
        "\n",
        "\n",
        "def split_data(data, training_size=0.8):\n",
        "  \"\"\"\n",
        "  data: Pandas Dataframe\n",
        "  training_size: proportion of the data to be used for training\n",
        "  This function splits the data into training_set and test_set based on the given training_size\n",
        "  Return: train_set and test_set as pandas DataFrame\n",
        "  \"\"\"\n",
        "  return data[:int(training_size*len(data))], data[int(training_size*len(data)):]\n",
        "\n",
        "\n",
        "def create_inputs(data, coins=['btc', 'eth'], window_len=window_len):\n",
        "  \"\"\"\n",
        "  data: pandas DataFrame, this could be either training_set or test_set\n",
        "  target_coin: the coin which will be the target for the prediction.\n",
        "  coins: coin datas which will be used as the input. Default is 'btc', 'eth'\n",
        "  window_len: is an intiger to be used as the look back window for creating a single input sample.\n",
        "  This function will create input array X and it's label array Y from the given dataset and \n",
        "  will normalize 'Close' and 'Volume' between 0 and 1\n",
        "  Return: X list and Y as numpy array\n",
        "  \"\"\"\n",
        "  norm_cols = [coin + metric for coin in coins for metric in ['_Close', '_Volume']]\n",
        "  inputs = []\n",
        "  for i in range(len(data) - window_len):\n",
        "    temp_set = data[i:(i + window_len)].copy()\n",
        "    inputs.append(temp_set)\n",
        "    for col in norm_cols:\n",
        "      inputs[i].loc[:, col] = inputs[i].loc[:, col] / inputs[i].loc[:, col].iloc[0] - 1  \n",
        "  return inputs\n",
        "\n",
        "def create_outputs(data, coin, window_len=window_len):\n",
        "  return (data[coin + '_Close'][window_len:].values / data[coin + '_Close'][:-window_len].values) - 1\n",
        "\n",
        "def to_array(data):\n",
        "  \"\"\"\n",
        "  data: DataFrame\n",
        "  This function will convert list of inputs to a numpy array\n",
        "  Return: numpy array\n",
        "  \"\"\"\n",
        "  x = [np.array(data[i]) for i in range (len(data))]\n",
        "  return np.array(x)\n",
        "\n",
        "\n",
        "def build_model(inputs, output_size, neurons, activ_func=activation_function, dropout=dropout, loss=loss, optimizer=optimizer):\n",
        "  \"\"\"\n",
        "  inputs: input data as numpy array\n",
        "  output_size: number of predictions per input sample\n",
        "  neurons: number of neurons/ units in the LSTM layer\n",
        "  active_func: Activation function to be used in LSTM layers and Dense layer\n",
        "  dropout: dropout ration, default is 2.5\n",
        "  loss: loss function for calculating the gradient\n",
        "  optimizer: type of optimizer to backpropagate the gradient\n",
        "  This function will build 3 layered RNN model with LSTM cells with dripouts after each LSTM layer \n",
        "  and finally a dense layer to produce the output using keras' sequential model.\n",
        "  Return: Keras sequential model and model summary\n",
        "  \"\"\"\n",
        "  model = Sequential()\n",
        "  model.add(LSTM(neurons, return_sequences=True, input_shape=(inputs.shape[1], inputs.shape[2]), activation=activ_func))\n",
        "  model.add(Dropout(dropout))\n",
        "  model.add(LSTM(neurons, return_sequences=True, activation=activ_func))\n",
        "  model.add(Dropout(dropout))\n",
        "  model.add(LSTM(neurons, activation=activ_func))\n",
        "  model.add(Dropout(dropout))\n",
        "  model.add(Dense(units=output_size))\n",
        "  model.add(Activation(activ_func))\n",
        "  model.compile(loss=loss, optimizer=optimizer)\n",
        "  model.summary()\n",
        "  return model"
      ],
      "execution_count": 0,
      "outputs": []
    },
    {
      "metadata": {
        "id": "auwt63XLkuTD",
        "colab_type": "code",
        "colab": {
          "autoexec": {
            "startup": false,
            "wait_interval": 0
          }
        }
      },
      "cell_type": "code",
      "source": [
        "def show_plot(data, tag):\n",
        "  fig, (ax1, ax2) = plt.subplots(2,1, gridspec_kw = {'height_ratios':[3, 1]})\n",
        "  ax1.set_ylabel('Closing Price ($)',fontsize=12)\n",
        "  ax2.set_ylabel('Volume ($ bn)',fontsize=12)\n",
        "  ax2.set_yticks([int('%d000000000'%i) for i in range(10)])\n",
        "  ax2.set_yticklabels(range(10))\n",
        "  ax1.set_xticks([datetime.date(i,j,1) for i in range(2013,2019) for j in [1,7]])\n",
        "  ax1.set_xticklabels('')\n",
        "  ax2.set_xticks([datetime.date(i,j,1) for i in range(2013,2019) for j in [1,7]])\n",
        "  ax2.set_xticklabels([datetime.date(i,j,1).strftime('%b %Y')  for i in range(2013,2019) for j in [1,7]])\n",
        "  ax1.plot(data['Date'].astype(datetime.datetime),data[tag +'_Open'])\n",
        "  ax2.bar(data['Date'].astype(datetime.datetime).values, data[tag +'_Volume'].values)\n",
        "  fig.tight_layout()\n",
        "  plt.show()"
      ],
      "execution_count": 0,
      "outputs": []
    },
    {
      "metadata": {
        "id": "POobtVVWYigo",
        "colab_type": "code",
        "colab": {
          "autoexec": {
            "startup": false,
            "wait_interval": 0
          }
        }
      },
      "cell_type": "code",
      "source": [
        "btc_data = get_market_data(\"bitcoin\", tag='btc')\n",
        "eth_data = get_market_data(\"ethereum\", tag='eth')"
      ],
      "execution_count": 0,
      "outputs": []
    },
    {
      "metadata": {
        "id": "rO60a_-r6svn",
        "colab_type": "code",
        "colab": {
          "autoexec": {
            "startup": false,
            "wait_interval": 0
          },
          "output_extras": [
            {
              "item_id": 1
            },
            {
              "item_id": 2
            }
          ],
          "base_uri": "https://localhost:8080/",
          "height": 577
        },
        "outputId": "017afcc1-d679-4789-c331-0a07fccb6181",
        "executionInfo": {
          "status": "ok",
          "timestamp": 1518222317680,
          "user_tz": 480,
          "elapsed": 4978,
          "user": {
            "displayName": "Siavash Fahimi",
            "photoUrl": "//lh6.googleusercontent.com/-up4qQrxDTS8/AAAAAAAAAAI/AAAAAAAAAA8/Ur690oI3y3o/s50-c-k-no/photo.jpg",
            "userId": "115818752764157619428"
          }
        }
      },
      "cell_type": "code",
      "source": [
        "show_plot(btc_data, tag='btc')\n",
        "show_plot(eth_data, tag='eth')"
      ],
      "execution_count": 6,
      "outputs": [
        {
          "output_type": "display_data",
          "data": {
            "image/png": "[encoded data removed]",
            "text/plain": [
              "<matplotlib.figure.Figure at 0x7f6c16354198>"
            ]
          },
          "metadata": {
            "tags": []
          }
        },
        {
          "output_type": "display_data",
          "data": {
            "image/png": "[encoded data removed]",
            "text/plain": [
              "<matplotlib.figure.Figure at 0x7f6c163542e8>"
            ]
          },
          "metadata": {
            "tags": []
          }
        }
      ]
    },
    {
      "metadata": {
        "id": "0xM2ct_ve1lH",
        "colab_type": "code",
        "colab": {
          "autoexec": {
            "startup": false,
            "wait_interval": 0
          }
        }
      },
      "cell_type": "code",
      "source": [
        "market_data = merge_data(btc_data, eth_data)\n",
        "market_data = add_volatility(market_data)\n",
        "model_data = create_model_data(market_data)\n",
        "train_set, test_set = split_data(model_data)"
      ],
      "execution_count": 0,
      "outputs": []
    },
    {
      "metadata": {
        "id": "Tw6dSTImMgyR",
        "colab_type": "code",
        "colab": {
          "autoexec": {
            "startup": false,
            "wait_interval": 0
          },
          "output_extras": [
            {
              "item_id": 1
            }
          ],
          "base_uri": "https://localhost:8080/",
          "height": 204
        },
        "outputId": "d9fc5a28-fdd0-4b8a-e9f5-727b43d82b71",
        "executionInfo": {
          "status": "ok",
          "timestamp": 1518222318401,
          "user_tz": 480,
          "elapsed": 303,
          "user": {
            "displayName": "Siavash Fahimi",
            "photoUrl": "//lh6.googleusercontent.com/-up4qQrxDTS8/AAAAAAAAAAI/AAAAAAAAAA8/Ur690oI3y3o/s50-c-k-no/photo.jpg",
            "userId": "115818752764157619428"
          }
        }
      },
      "cell_type": "code",
      "source": [
        "train_set.tail()"
      ],
      "execution_count": 8,
      "outputs": [
        {
          "output_type": "execute_result",
          "data": {
            "text/html": [
              "<div>\n",
              "<style scoped>\n",
              "    .dataframe tbody tr th:only-of-type {\n",
              "        vertical-align: middle;\n",
              "    }\n",
              "\n",
              "    .dataframe tbody tr th {\n",
              "        vertical-align: top;\n",
              "    }\n",
              "\n",
              "    .dataframe thead th {\n",
              "        text-align: right;\n",
              "    }\n",
              "</style>\n",
              "<table border=\"1\" class=\"dataframe\">\n",
              "  <thead>\n",
              "    <tr style=\"text-align: right;\">\n",
              "      <th></th>\n",
              "      <th>Date</th>\n",
              "      <th>btc_Close</th>\n",
              "      <th>btc_Volume</th>\n",
              "      <th>btc_close_off_high</th>\n",
              "      <th>btc_volatility</th>\n",
              "      <th>eth_Close</th>\n",
              "      <th>eth_Volume</th>\n",
              "      <th>eth_close_off_high</th>\n",
              "      <th>eth_volatility</th>\n",
              "    </tr>\n",
              "  </thead>\n",
              "  <tbody>\n",
              "    <tr>\n",
              "      <th>158</th>\n",
              "      <td>2017-09-03</td>\n",
              "      <td>4582.96</td>\n",
              "      <td>1.933190e+09</td>\n",
              "      <td>-0.115518</td>\n",
              "      <td>0.064661</td>\n",
              "      <td>347.48</td>\n",
              "      <td>986266000</td>\n",
              "      <td>0.109749</td>\n",
              "      <td>0.097821</td>\n",
              "    </tr>\n",
              "    <tr>\n",
              "      <th>157</th>\n",
              "      <td>2017-09-04</td>\n",
              "      <td>4236.31</td>\n",
              "      <td>2.987330e+09</td>\n",
              "      <td>0.470604</td>\n",
              "      <td>0.105241</td>\n",
              "      <td>295.17</td>\n",
              "      <td>1801690000</td>\n",
              "      <td>0.546659</td>\n",
              "      <td>0.193559</td>\n",
              "    </tr>\n",
              "    <tr>\n",
              "      <th>156</th>\n",
              "      <td>2017-09-05</td>\n",
              "      <td>4376.53</td>\n",
              "      <td>2.697970e+09</td>\n",
              "      <td>-0.761199</td>\n",
              "      <td>0.101632</td>\n",
              "      <td>312.99</td>\n",
              "      <td>1551050000</td>\n",
              "      <td>-0.778043</td>\n",
              "      <td>0.168969</td>\n",
              "    </tr>\n",
              "    <tr>\n",
              "      <th>155</th>\n",
              "      <td>2017-09-06</td>\n",
              "      <td>4597.12</td>\n",
              "      <td>2.172100e+09</td>\n",
              "      <td>-0.832710</td>\n",
              "      <td>0.054988</td>\n",
              "      <td>334.34</td>\n",
              "      <td>1058830000</td>\n",
              "      <td>-0.969769</td>\n",
              "      <td>0.067463</td>\n",
              "    </tr>\n",
              "    <tr>\n",
              "      <th>154</th>\n",
              "      <td>2017-09-07</td>\n",
              "      <td>4599.88</td>\n",
              "      <td>1.844620e+09</td>\n",
              "      <td>-0.326125</td>\n",
              "      <td>0.035673</td>\n",
              "      <td>329.43</td>\n",
              "      <td>718624000</td>\n",
              "      <td>-0.397644</td>\n",
              "      <td>0.040717</td>\n",
              "    </tr>\n",
              "  </tbody>\n",
              "</table>\n",
              "</div>"
            ],
            "text/plain": [
              "          Date  btc_Close    btc_Volume  btc_close_off_high  btc_volatility  \\\n",
              "158 2017-09-03    4582.96  1.933190e+09           -0.115518        0.064661   \n",
              "157 2017-09-04    4236.31  2.987330e+09            0.470604        0.105241   \n",
              "156 2017-09-05    4376.53  2.697970e+09           -0.761199        0.101632   \n",
              "155 2017-09-06    4597.12  2.172100e+09           -0.832710        0.054988   \n",
              "154 2017-09-07    4599.88  1.844620e+09           -0.326125        0.035673   \n",
              "\n",
              "     eth_Close  eth_Volume  eth_close_off_high  eth_volatility  \n",
              "158     347.48   986266000            0.109749        0.097821  \n",
              "157     295.17  1801690000            0.546659        0.193559  \n",
              "156     312.99  1551050000           -0.778043        0.168969  \n",
              "155     334.34  1058830000           -0.969769        0.067463  \n",
              "154     329.43   718624000           -0.397644        0.040717  "
            ]
          },
          "metadata": {
            "tags": []
          },
          "execution_count": 8
        }
      ]
    },
    {
      "metadata": {
        "id": "tKnWAnttdNQP",
        "colab_type": "code",
        "colab": {
          "autoexec": {
            "startup": false,
            "wait_interval": 0
          },
          "output_extras": [
            {
              "item_id": 1
            }
          ],
          "base_uri": "https://localhost:8080/",
          "height": 51
        },
        "outputId": "e659e322-6600-4c2a-e8af-b0daec1879a9",
        "executionInfo": {
          "status": "ok",
          "timestamp": 1518222322046,
          "user_tz": 480,
          "elapsed": 3367,
          "user": {
            "displayName": "Siavash Fahimi",
            "photoUrl": "//lh6.googleusercontent.com/-up4qQrxDTS8/AAAAAAAAAAI/AAAAAAAAAA8/Ur690oI3y3o/s50-c-k-no/photo.jpg",
            "userId": "115818752764157619428"
          }
        }
      },
      "cell_type": "code",
      "source": [
        "train_set = train_set.drop('Date', 1)\n",
        "test_set = test_set.drop('Date', 1)\n",
        "\n",
        "X_train = create_inputs(train_set)\n",
        "Y_train_btc = create_outputs(train_set, coin='btc')\n",
        "X_test = create_inputs(test_set)\n",
        "Y_test_btc = create_outputs(test_set, coin='btc')\n",
        "\n",
        "Y_train_eth = create_outputs(train_set, coin='eth')\n",
        "Y_test_eth = create_outputs(test_set, coin='eth')\n",
        "\n",
        "X_train, X_test = to_array(X_train), to_array(X_test)\n",
        "\n",
        "print (np.shape(X_train), np.shape(X_test), np.shape(Y_train_btc), np.shape(Y_test_btc))\n",
        "print (np.shape(X_train), np.shape(X_test), np.shape(Y_train_eth), np.shape(Y_test_eth))"
      ],
      "execution_count": 9,
      "outputs": [
        {
          "output_type": "stream",
          "text": [
            "(609, 7, 8) (147, 7, 8) (609,) (147,)\n",
            "(609, 7, 8) (147, 7, 8) (609,) (147,)\n"
          ],
          "name": "stdout"
        }
      ]
    },
    {
      "metadata": {
        "id": "vtU0NZP-JQLq",
        "colab_type": "code",
        "colab": {
          "autoexec": {
            "startup": false,
            "wait_interval": 0
          },
          "output_extras": [
            {
              "item_id": 35
            },
            {
              "item_id": 94
            },
            {
              "item_id": 145
            }
          ],
          "base_uri": "https://localhost:8080/",
          "height": 1955
        },
        "outputId": "27d4f7c3-3604-43e3-cd84-7a6973922fe5",
        "executionInfo": {
          "status": "ok",
          "timestamp": 1518222372501,
          "user_tz": 480,
          "elapsed": 50441,
          "user": {
            "displayName": "Siavash Fahimi",
            "photoUrl": "//lh6.googleusercontent.com/-up4qQrxDTS8/AAAAAAAAAAI/AAAAAAAAAA8/Ur690oI3y3o/s50-c-k-no/photo.jpg",
            "userId": "115818752764157619428"
          }
        }
      },
      "cell_type": "code",
      "source": [
        "# clean up the memory\n",
        "gc.collect()\n",
        "\n",
        "# random seed for reproducibility\n",
        "np.random.seed(202)\n",
        "\n",
        "# initialise model architecture\n",
        "btc_model = build_model(X_train, output_size=1, neurons = 1024)\n",
        "\n",
        "# train model on data\n",
        "btc_history = btc_model.fit(X_train, Y_train_btc, epochs=45, batch_size=128, verbose=1, validation_data=(X_test, Y_test_btc), shuffle=True)"
      ],
      "execution_count": 10,
      "outputs": [
        {
          "output_type": "stream",
          "text": [
            "_________________________________________________________________\n",
            "Layer (type)                 Output Shape              Param #   \n",
            "=================================================================\n",
            "lstm_1 (LSTM)                (None, 7, 1024)           4231168   \n",
            "_________________________________________________________________\n",
            "dropout_1 (Dropout)          (None, 7, 1024)           0         \n",
            "_________________________________________________________________\n",
            "lstm_2 (LSTM)                (None, 7, 1024)           8392704   \n",
            "_________________________________________________________________\n",
            "dropout_2 (Dropout)          (None, 7, 1024)           0         \n",
            "_________________________________________________________________\n",
            "lstm_3 (LSTM)                (None, 1024)              8392704   \n",
            "_________________________________________________________________\n",
            "dropout_3 (Dropout)          (None, 1024)              0         \n",
            "_________________________________________________________________\n",
            "dense_1 (Dense)              (None, 1)                 1025      \n",
            "_________________________________________________________________\n",
            "activation_1 (Activation)    (None, 1)                 0         \n",
            "=================================================================\n",
            "Total params: 21,017,601\n",
            "Trainable params: 21,017,601\n",
            "Non-trainable params: 0\n",
            "_________________________________________________________________\n",
            "Train on 609 samples, validate on 147 samples\n",
            "Epoch 1/45\n",
            "609/609 [==============================] - 2s 4ms/step - loss: 0.0116 - val_loss: 0.0264\n",
            "Epoch 2/45\n",
            "609/609 [==============================] - 1s 1ms/step - loss: 0.0064 - val_loss: 0.0251\n",
            "Epoch 3/45\n",
            "609/609 [==============================] - 1s 1ms/step - loss: 0.0055 - val_loss: 0.0173\n",
            "Epoch 4/45\n",
            "609/609 [==============================] - 1s 1ms/step - loss: 0.0052 - val_loss: 0.0147\n",
            "Epoch 5/45\n",
            "609/609 [==============================] - 1s 1ms/step - loss: 0.0040 - val_loss: 0.0131\n",
            "Epoch 6/45\n",
            "609/609 [==============================] - 1s 1ms/step - loss: 0.0032 - val_loss: 0.0093\n",
            "Epoch 7/45\n",
            "609/609 [==============================] - 1s 1ms/step - loss: 0.0028 - val_loss: 0.0089\n",
            "Epoch 8/45\n",
            "609/609 [==============================] - 1s 1ms/step - loss: 0.0026 - val_loss: 0.0088\n",
            "Epoch 9/45\n",
            "609/609 [==============================] - 1s 1ms/step - loss: 0.0024 - val_loss: 0.0077\n",
            "Epoch 10/45\n",
            "512/609 [========================>.....] - ETA: 0s - loss: 0.0021"
          ],
          "name": "stdout"
        },
        {
          "output_type": "stream",
          "text": [
            "609/609 [==============================] - 1s 1ms/step - loss: 0.0022 - val_loss: 0.0080\n",
            "Epoch 11/45\n",
            "609/609 [==============================] - 1s 1ms/step - loss: 0.0020 - val_loss: 0.0071\n",
            "Epoch 12/45\n",
            "609/609 [==============================] - 1s 1ms/step - loss: 0.0023 - val_loss: 0.0074\n",
            "Epoch 13/45\n",
            "609/609 [==============================] - 1s 1ms/step - loss: 0.0020 - val_loss: 0.0067\n",
            "Epoch 14/45\n",
            "609/609 [==============================] - 1s 1ms/step - loss: 0.0018 - val_loss: 0.0064\n",
            "Epoch 15/45\n",
            "609/609 [==============================] - 1s 1ms/step - loss: 0.0016 - val_loss: 0.0060\n",
            "Epoch 16/45\n",
            "609/609 [==============================] - 1s 1ms/step - loss: 0.0017 - val_loss: 0.0064\n",
            "Epoch 17/45\n",
            "609/609 [==============================] - 1s 1ms/step - loss: 0.0017 - val_loss: 0.0055\n",
            "Epoch 18/45\n",
            "609/609 [==============================] - 1s 1ms/step - loss: 0.0015 - val_loss: 0.0054\n",
            "Epoch 19/45\n",
            "609/609 [==============================] - 1s 1ms/step - loss: 0.0014 - val_loss: 0.0054\n",
            "Epoch 20/45\n",
            "609/609 [==============================] - 1s 1ms/step - loss: 0.0014 - val_loss: 0.0052\n",
            "Epoch 21/45\n",
            "609/609 [==============================] - 1s 1ms/step - loss: 0.0015 - val_loss: 0.0054\n",
            "Epoch 22/45\n",
            "609/609 [==============================] - 1s 1ms/step - loss: 0.0013 - val_loss: 0.0050\n",
            "Epoch 23/45\n",
            "609/609 [==============================] - 1s 1ms/step - loss: 0.0013 - val_loss: 0.0049\n",
            "Epoch 24/45\n",
            "609/609 [==============================] - 1s 1ms/step - loss: 0.0013 - val_loss: 0.0051\n",
            "Epoch 25/45\n",
            "609/609 [==============================] - 1s 1ms/step - loss: 0.0013 - val_loss: 0.0048\n",
            "Epoch 26/45\n",
            "609/609 [==============================] - 1s 1ms/step - loss: 0.0012 - val_loss: 0.0049\n",
            "Epoch 27/45\n",
            "609/609 [==============================] - 1s 1ms/step - loss: 0.0013 - val_loss: 0.0046\n",
            "Epoch 28/45\n",
            "609/609 [==============================] - 1s 1ms/step - loss: 0.0013 - val_loss: 0.0048\n",
            "Epoch 29/45\n",
            "384/609 [=================>............] - ETA: 0s - loss: 0.0014"
          ],
          "name": "stdout"
        },
        {
          "output_type": "stream",
          "text": [
            "609/609 [==============================] - 1s 1ms/step - loss: 0.0014 - val_loss: 0.0049\n",
            "Epoch 30/45\n",
            "609/609 [==============================] - 1s 1ms/step - loss: 0.0014 - val_loss: 0.0046\n",
            "Epoch 31/45\n",
            "609/609 [==============================] - 1s 1ms/step - loss: 0.0014 - val_loss: 0.0048\n",
            "Epoch 32/45\n",
            "609/609 [==============================] - 1s 1ms/step - loss: 0.0015 - val_loss: 0.0046\n",
            "Epoch 33/45\n",
            "609/609 [==============================] - 1s 1ms/step - loss: 0.0015 - val_loss: 0.0050\n",
            "Epoch 34/45\n",
            "609/609 [==============================] - 1s 1ms/step - loss: 0.0015 - val_loss: 0.0046\n",
            "Epoch 35/45\n",
            "609/609 [==============================] - 1s 1ms/step - loss: 0.0014 - val_loss: 0.0047\n",
            "Epoch 36/45\n",
            "609/609 [==============================] - 1s 1ms/step - loss: 0.0013 - val_loss: 0.0046\n",
            "Epoch 37/45\n",
            "609/609 [==============================] - 1s 1ms/step - loss: 0.0013 - val_loss: 0.0044\n",
            "Epoch 38/45\n",
            "609/609 [==============================] - 1s 1ms/step - loss: 0.0013 - val_loss: 0.0047\n",
            "Epoch 39/45\n",
            "609/609 [==============================] - 1s 1ms/step - loss: 0.0013 - val_loss: 0.0045\n",
            "Epoch 40/45\n",
            "609/609 [==============================] - 1s 1ms/step - loss: 0.0012 - val_loss: 0.0045\n",
            "Epoch 41/45\n",
            "609/609 [==============================] - 1s 1ms/step - loss: 0.0012 - val_loss: 0.0045\n",
            "Epoch 42/45\n",
            "609/609 [==============================] - 1s 1ms/step - loss: 0.0013 - val_loss: 0.0048\n",
            "Epoch 43/45\n",
            "609/609 [==============================] - 1s 1ms/step - loss: 0.0014 - val_loss: 0.0044\n",
            "Epoch 44/45\n",
            "609/609 [==============================] - 1s 1ms/step - loss: 0.0013 - val_loss: 0.0046\n",
            "Epoch 45/45\n",
            "609/609 [==============================] - 1s 1ms/step - loss: 0.0012 - val_loss: 0.0045\n"
          ],
          "name": "stdout"
        }
      ]
    },
    {
      "metadata": {
        "id": "2DJ7tz97AAIC",
        "colab_type": "code",
        "colab": {
          "autoexec": {
            "startup": false,
            "wait_interval": 0
          },
          "output_extras": [
            {
              "item_id": 1
            }
          ],
          "base_uri": "https://localhost:8080/",
          "height": 265
        },
        "outputId": "6be2b184-cfac-4115-caed-34a8298aea53",
        "executionInfo": {
          "status": "ok",
          "timestamp": 1518222373026,
          "user_tz": 480,
          "elapsed": 505,
          "user": {
            "displayName": "Siavash Fahimi",
            "photoUrl": "//lh6.googleusercontent.com/-up4qQrxDTS8/AAAAAAAAAAI/AAAAAAAAAA8/Ur690oI3y3o/s50-c-k-no/photo.jpg",
            "userId": "115818752764157619428"
          }
        }
      },
      "cell_type": "code",
      "source": [
        "plt.plot(btc_history.epoch, btc_history.history['loss'])\n",
        "plt.plot(btc_history.epoch, btc_history.history['val_loss'])\n",
        "plt.show()"
      ],
      "execution_count": 11,
      "outputs": [
        {
          "output_type": "display_data",
          "data": {
            "image/png": "[encoded data removed]",
            "text/plain": [
              "<matplotlib.figure.Figure at 0x7f6c157badd8>"
            ]
          },
          "metadata": {
            "tags": []
          }
        }
      ]
    },
    {
      "metadata": {
        "id": "BL0L111lCDwp",
        "colab_type": "code",
        "colab": {
          "autoexec": {
            "startup": false,
            "wait_interval": 0
          },
          "output_extras": [
            {
              "item_id": 1
            }
          ],
          "base_uri": "https://localhost:8080/",
          "height": 268
        },
        "outputId": "dd8eaed8-b7b1-46f3-c5af-83bec89cd4d1",
        "executionInfo": {
          "status": "ok",
          "timestamp": 1518222373848,
          "user_tz": 480,
          "elapsed": 697,
          "user": {
            "displayName": "Siavash Fahimi",
            "photoUrl": "//lh6.googleusercontent.com/-up4qQrxDTS8/AAAAAAAAAAI/AAAAAAAAAA8/Ur690oI3y3o/s50-c-k-no/photo.jpg",
            "userId": "115818752764157619428"
          }
        }
      },
      "cell_type": "code",
      "source": [
        "plt.plot(btc_model.predict(X_test))\n",
        "plt.plot(Y_test_btc)\n",
        "plt.show()"
      ],
      "execution_count": 12,
      "outputs": [
        {
          "output_type": "display_data",
          "data": {
            "image/png": "[encoded data removed]",
            "text/plain": [
              "<matplotlib.figure.Figure at 0x7f6c14bd4ba8>"
            ]
          },
          "metadata": {
            "tags": []
          }
        }
      ]
    },
    {
      "metadata": {
        "id": "2_f1N-xn0jOh",
        "colab_type": "code",
        "colab": {
          "autoexec": {
            "startup": false,
            "wait_interval": 0
          },
          "output_extras": [
            {
              "item_id": 34
            },
            {
              "item_id": 95
            },
            {
              "item_id": 147
            }
          ],
          "base_uri": "https://localhost:8080/",
          "height": 1955
        },
        "outputId": "f92695e8-42a6-4684-9aae-ebe84e95a696",
        "executionInfo": {
          "status": "ok",
          "timestamp": 1518222424258,
          "user_tz": 480,
          "elapsed": 50336,
          "user": {
            "displayName": "Siavash Fahimi",
            "photoUrl": "//lh6.googleusercontent.com/-up4qQrxDTS8/AAAAAAAAAAI/AAAAAAAAAA8/Ur690oI3y3o/s50-c-k-no/photo.jpg",
            "userId": "115818752764157619428"
          }
        }
      },
      "cell_type": "code",
      "source": [
        "# clean up the memory\n",
        "gc.collect()\n",
        "\n",
        "# random seed for reproducibility\n",
        "np.random.seed(202)\n",
        "\n",
        "# initialise model architecture\n",
        "eth_model = build_model(X_train, output_size=1, neurons = 1024)\n",
        "\n",
        "# train model on data\n",
        "eth_history = eth_model.fit(X_train, Y_train_eth, epochs=45, batch_size=128, verbose=1, validation_data=(X_test, Y_test_eth), shuffle=True)"
      ],
      "execution_count": 13,
      "outputs": [
        {
          "output_type": "stream",
          "text": [
            "_________________________________________________________________\n",
            "Layer (type)                 Output Shape              Param #   \n",
            "=================================================================\n",
            "lstm_4 (LSTM)                (None, 7, 1024)           4231168   \n",
            "_________________________________________________________________\n",
            "dropout_4 (Dropout)          (None, 7, 1024)           0         \n",
            "_________________________________________________________________\n",
            "lstm_5 (LSTM)                (None, 7, 1024)           8392704   \n",
            "_________________________________________________________________\n",
            "dropout_5 (Dropout)          (None, 7, 1024)           0         \n",
            "_________________________________________________________________\n",
            "lstm_6 (LSTM)                (None, 1024)              8392704   \n",
            "_________________________________________________________________\n",
            "dropout_6 (Dropout)          (None, 1024)              0         \n",
            "_________________________________________________________________\n",
            "dense_2 (Dense)              (None, 1)                 1025      \n",
            "_________________________________________________________________\n",
            "activation_2 (Activation)    (None, 1)                 0         \n",
            "=================================================================\n",
            "Total params: 21,017,601\n",
            "Trainable params: 21,017,601\n",
            "Non-trainable params: 0\n",
            "_________________________________________________________________\n",
            "Train on 609 samples, validate on 147 samples\n",
            "Epoch 1/45\n",
            "609/609 [==============================] - 2s 3ms/step - loss: 0.0504 - val_loss: 0.0197\n",
            "Epoch 2/45\n",
            "609/609 [==============================] - 1s 1ms/step - loss: 0.0310 - val_loss: 0.0134\n",
            "Epoch 3/45\n",
            "609/609 [==============================] - 1s 1ms/step - loss: 0.0244 - val_loss: 0.0100\n",
            "Epoch 4/45\n",
            "609/609 [==============================] - 1s 1ms/step - loss: 0.0213 - val_loss: 0.0107\n",
            "Epoch 5/45\n",
            "609/609 [==============================] - 1s 1ms/step - loss: 0.0197 - val_loss: 0.0096\n",
            "Epoch 6/45\n",
            "609/609 [==============================] - 1s 1ms/step - loss: 0.0165 - val_loss: 0.0069\n",
            "Epoch 7/45\n",
            "609/609 [==============================] - 1s 1ms/step - loss: 0.0140 - val_loss: 0.0067\n",
            "Epoch 8/45\n",
            "609/609 [==============================] - 1s 1ms/step - loss: 0.0131 - val_loss: 0.0070\n",
            "Epoch 9/45\n",
            "609/609 [==============================] - 1s 1ms/step - loss: 0.0121 - val_loss: 0.0056\n",
            "Epoch 10/45\n",
            "512/609 [========================>.....] - ETA: 0s - loss: 0.0113"
          ],
          "name": "stdout"
        },
        {
          "output_type": "stream",
          "text": [
            "609/609 [==============================] - 1s 1ms/step - loss: 0.0107 - val_loss: 0.0057\n",
            "Epoch 11/45\n",
            "609/609 [==============================] - 1s 1ms/step - loss: 0.0096 - val_loss: 0.0059\n",
            "Epoch 12/45\n",
            "609/609 [==============================] - 1s 1ms/step - loss: 0.0092 - val_loss: 0.0056\n",
            "Epoch 13/45\n",
            "609/609 [==============================] - 1s 1ms/step - loss: 0.0089 - val_loss: 0.0057\n",
            "Epoch 14/45\n",
            "609/609 [==============================] - 1s 1ms/step - loss: 0.0095 - val_loss: 0.0059\n",
            "Epoch 15/45\n",
            "609/609 [==============================] - 1s 1ms/step - loss: 0.0088 - val_loss: 0.0054\n",
            "Epoch 16/45\n",
            "609/609 [==============================] - 1s 1ms/step - loss: 0.0084 - val_loss: 0.0048\n",
            "Epoch 17/45\n",
            "609/609 [==============================] - 1s 1ms/step - loss: 0.0083 - val_loss: 0.0052\n",
            "Epoch 18/45\n",
            "609/609 [==============================] - 1s 1ms/step - loss: 0.0087 - val_loss: 0.0052\n",
            "Epoch 19/45\n",
            "609/609 [==============================] - 1s 1ms/step - loss: 0.0088 - val_loss: 0.0062\n",
            "Epoch 20/45\n",
            "609/609 [==============================] - 1s 1ms/step - loss: 0.0093 - val_loss: 0.0061\n",
            "Epoch 21/45\n",
            "609/609 [==============================] - 1s 1ms/step - loss: 0.0095 - val_loss: 0.0062\n",
            "Epoch 22/45\n",
            "609/609 [==============================] - 1s 1ms/step - loss: 0.0081 - val_loss: 0.0049\n",
            "Epoch 23/45\n",
            "609/609 [==============================] - 1s 1ms/step - loss: 0.0079 - val_loss: 0.0052\n",
            "Epoch 24/45\n",
            "609/609 [==============================] - 1s 1ms/step - loss: 0.0078 - val_loss: 0.0053\n",
            "Epoch 25/45\n",
            "609/609 [==============================] - 1s 1ms/step - loss: 0.0076 - val_loss: 0.0057\n",
            "Epoch 26/45\n",
            "609/609 [==============================] - 1s 1ms/step - loss: 0.0079 - val_loss: 0.0049\n",
            "Epoch 27/45\n",
            "609/609 [==============================] - 1s 1ms/step - loss: 0.0077 - val_loss: 0.0054\n",
            "Epoch 28/45\n",
            "609/609 [==============================] - 1s 1ms/step - loss: 0.0079 - val_loss: 0.0050\n",
            "Epoch 29/45\n",
            "384/609 [=================>............] - ETA: 0s - loss: 0.0067"
          ],
          "name": "stdout"
        },
        {
          "output_type": "stream",
          "text": [
            "609/609 [==============================] - 1s 1ms/step - loss: 0.0078 - val_loss: 0.0059\n",
            "Epoch 30/45\n",
            "609/609 [==============================] - 1s 1ms/step - loss: 0.0080 - val_loss: 0.0051\n",
            "Epoch 31/45\n",
            "609/609 [==============================] - 1s 1ms/step - loss: 0.0081 - val_loss: 0.0053\n",
            "Epoch 32/45\n",
            "609/609 [==============================] - 1s 1ms/step - loss: 0.0080 - val_loss: 0.0047\n",
            "Epoch 33/45\n",
            "609/609 [==============================] - 1s 1ms/step - loss: 0.0073 - val_loss: 0.0050\n",
            "Epoch 34/45\n",
            "609/609 [==============================] - 1s 1ms/step - loss: 0.0074 - val_loss: 0.0049\n",
            "Epoch 35/45\n",
            "609/609 [==============================] - 1s 1ms/step - loss: 0.0072 - val_loss: 0.0050\n",
            "Epoch 36/45\n",
            "609/609 [==============================] - 1s 1ms/step - loss: 0.0074 - val_loss: 0.0051\n",
            "Epoch 37/45\n",
            "609/609 [==============================] - 1s 1ms/step - loss: 0.0072 - val_loss: 0.0050\n",
            "Epoch 38/45\n",
            "609/609 [==============================] - 1s 1ms/step - loss: 0.0073 - val_loss: 0.0050\n",
            "Epoch 39/45\n",
            "609/609 [==============================] - 1s 1ms/step - loss: 0.0079 - val_loss: 0.0060\n",
            "Epoch 40/45\n",
            "609/609 [==============================] - 1s 1ms/step - loss: 0.0082 - val_loss: 0.0054\n",
            "Epoch 41/45\n",
            "609/609 [==============================] - 1s 1ms/step - loss: 0.0078 - val_loss: 0.0059\n",
            "Epoch 42/45\n",
            "609/609 [==============================] - 1s 1ms/step - loss: 0.0080 - val_loss: 0.0049\n",
            "Epoch 43/45\n",
            "609/609 [==============================] - 1s 1ms/step - loss: 0.0077 - val_loss: 0.0054\n",
            "Epoch 44/45\n",
            "609/609 [==============================] - 1s 1ms/step - loss: 0.0075 - val_loss: 0.0050\n",
            "Epoch 45/45\n",
            "609/609 [==============================] - 1s 1ms/step - loss: 0.0074 - val_loss: 0.0049\n"
          ],
          "name": "stdout"
        }
      ]
    },
    {
      "metadata": {
        "id": "BgBbhBec1pMf",
        "colab_type": "code",
        "colab": {
          "autoexec": {
            "startup": false,
            "wait_interval": 0
          },
          "output_extras": [
            {
              "item_id": 1
            }
          ],
          "base_uri": "https://localhost:8080/",
          "height": 265
        },
        "outputId": "299a264d-649b-4ae3-bb3c-9f7e5c12fe88",
        "executionInfo": {
          "status": "ok",
          "timestamp": 1518222424611,
          "user_tz": 480,
          "elapsed": 334,
          "user": {
            "displayName": "Siavash Fahimi",
            "photoUrl": "//lh6.googleusercontent.com/-up4qQrxDTS8/AAAAAAAAAAI/AAAAAAAAAA8/Ur690oI3y3o/s50-c-k-no/photo.jpg",
            "userId": "115818752764157619428"
          }
        }
      },
      "cell_type": "code",
      "source": [
        "plt.plot(eth_history.epoch, eth_history.history['loss'])\n",
        "plt.plot(eth_history.epoch, eth_history.history['val_loss'])\n",
        "plt.show()"
      ],
      "execution_count": 14,
      "outputs": [
        {
          "output_type": "display_data",
          "data": {
            "image/png": "[encoded data removed]",
            "text/plain": [
              "<matplotlib.figure.Figure at 0x7f6c0b1752e8>"
            ]
          },
          "metadata": {
            "tags": []
          }
        }
      ]
    },
    {
      "metadata": {
        "id": "7ztF5AFn15pK",
        "colab_type": "code",
        "colab": {
          "autoexec": {
            "startup": false,
            "wait_interval": 0
          },
          "output_extras": [
            {
              "item_id": 1
            }
          ],
          "base_uri": "https://localhost:8080/",
          "height": 265
        },
        "outputId": "fb611f62-71fe-4bf0-b9b3-eecaaeb3ef44",
        "executionInfo": {
          "status": "ok",
          "timestamp": 1518222425771,
          "user_tz": 480,
          "elapsed": 820,
          "user": {
            "displayName": "Siavash Fahimi",
            "photoUrl": "//lh6.googleusercontent.com/-up4qQrxDTS8/AAAAAAAAAAI/AAAAAAAAAA8/Ur690oI3y3o/s50-c-k-no/photo.jpg",
            "userId": "115818752764157619428"
          }
        }
      },
      "cell_type": "code",
      "source": [
        "plt.plot(eth_model.predict(X_test))\n",
        "plt.plot(Y_test_eth)\n",
        "plt.show()"
      ],
      "execution_count": 15,
      "outputs": [
        {
          "output_type": "display_data",
          "data": {
            "image/png": "[encoded data removed]",
            "text/plain": [
              "<matplotlib.figure.Figure at 0x7f6c0b175240>"
            ]
          },
          "metadata": {
            "tags": []
          }
        }
      ]
    }
  ]
}